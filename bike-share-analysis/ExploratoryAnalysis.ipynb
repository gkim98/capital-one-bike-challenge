{
 "cells": [
  {
   "cell_type": "markdown",
   "metadata": {},
   "source": [
    "# Exploratory Analysis of Bike Share Data"
   ]
  },
  {
   "cell_type": "markdown",
   "metadata": {},
   "source": [
    "Can I make the assumption that the data covers all transactions?"
   ]
  },
  {
   "cell_type": "code",
   "execution_count": 1,
   "metadata": {},
   "outputs": [],
   "source": [
    "import numpy as np\n",
    "import pandas as pd\n",
    "import matplotlib.pyplot as plt\n",
    "import seaborn as sns\n",
    "%matplotlib inline"
   ]
  },
  {
   "cell_type": "code",
   "execution_count": 2,
   "metadata": {},
   "outputs": [
    {
     "name": "stderr",
     "output_type": "stream",
     "text": [
      "C:\\Users\\grant\\Anaconda3\\lib\\site-packages\\IPython\\core\\interactiveshell.py:2728: DtypeWarning: Columns (14) have mixed types. Specify dtype option on import or set low_memory=False.\n",
      "  interactivity=interactivity, compiler=compiler, result=result)\n"
     ]
    }
   ],
   "source": [
    "# import data\n",
    "data = pd.read_csv('./data/metro-bike-share-trip-data.csv')"
   ]
  },
  {
   "cell_type": "code",
   "execution_count": 3,
   "metadata": {},
   "outputs": [
    {
     "data": {
      "text/html": [
       "<div>\n",
       "<style scoped>\n",
       "    .dataframe tbody tr th:only-of-type {\n",
       "        vertical-align: middle;\n",
       "    }\n",
       "\n",
       "    .dataframe tbody tr th {\n",
       "        vertical-align: top;\n",
       "    }\n",
       "\n",
       "    .dataframe thead th {\n",
       "        text-align: right;\n",
       "    }\n",
       "</style>\n",
       "<table border=\"1\" class=\"dataframe\">\n",
       "  <thead>\n",
       "    <tr style=\"text-align: right;\">\n",
       "      <th></th>\n",
       "      <th>Trip ID</th>\n",
       "      <th>Duration</th>\n",
       "      <th>Start Time</th>\n",
       "      <th>End Time</th>\n",
       "      <th>Starting Station ID</th>\n",
       "      <th>Starting Station Latitude</th>\n",
       "      <th>Starting Station Longitude</th>\n",
       "      <th>Ending Station ID</th>\n",
       "      <th>Ending Station Latitude</th>\n",
       "      <th>Ending Station Longitude</th>\n",
       "      <th>Bike ID</th>\n",
       "      <th>Plan Duration</th>\n",
       "      <th>Trip Route Category</th>\n",
       "      <th>Passholder Type</th>\n",
       "      <th>Starting Lat-Long</th>\n",
       "      <th>Ending Lat-Long</th>\n",
       "    </tr>\n",
       "  </thead>\n",
       "  <tbody>\n",
       "    <tr>\n",
       "      <th>0</th>\n",
       "      <td>1912818</td>\n",
       "      <td>180</td>\n",
       "      <td>2016-07-07T04:17:00</td>\n",
       "      <td>2016-07-07T04:20:00</td>\n",
       "      <td>3014.0</td>\n",
       "      <td>34.056610</td>\n",
       "      <td>-118.23721</td>\n",
       "      <td>3014.0</td>\n",
       "      <td>34.056610</td>\n",
       "      <td>-118.23721</td>\n",
       "      <td>6281.0</td>\n",
       "      <td>30.0</td>\n",
       "      <td>Round Trip</td>\n",
       "      <td>Monthly Pass</td>\n",
       "      <td>{'longitude': '-118.23721', 'latitude': '34.05...</td>\n",
       "      <td>{'longitude': '-118.23721', 'latitude': '34.05...</td>\n",
       "    </tr>\n",
       "    <tr>\n",
       "      <th>1</th>\n",
       "      <td>1919661</td>\n",
       "      <td>1980</td>\n",
       "      <td>2016-07-07T06:00:00</td>\n",
       "      <td>2016-07-07T06:33:00</td>\n",
       "      <td>3014.0</td>\n",
       "      <td>34.056610</td>\n",
       "      <td>-118.23721</td>\n",
       "      <td>3014.0</td>\n",
       "      <td>34.056610</td>\n",
       "      <td>-118.23721</td>\n",
       "      <td>6281.0</td>\n",
       "      <td>30.0</td>\n",
       "      <td>Round Trip</td>\n",
       "      <td>Monthly Pass</td>\n",
       "      <td>{'longitude': '-118.23721', 'latitude': '34.05...</td>\n",
       "      <td>{'longitude': '-118.23721', 'latitude': '34.05...</td>\n",
       "    </tr>\n",
       "    <tr>\n",
       "      <th>2</th>\n",
       "      <td>1933383</td>\n",
       "      <td>300</td>\n",
       "      <td>2016-07-07T10:32:00</td>\n",
       "      <td>2016-07-07T10:37:00</td>\n",
       "      <td>3016.0</td>\n",
       "      <td>34.052898</td>\n",
       "      <td>-118.24156</td>\n",
       "      <td>3016.0</td>\n",
       "      <td>34.052898</td>\n",
       "      <td>-118.24156</td>\n",
       "      <td>5861.0</td>\n",
       "      <td>365.0</td>\n",
       "      <td>Round Trip</td>\n",
       "      <td>Flex Pass</td>\n",
       "      <td>{'longitude': '-118.24156', 'latitude': '34.05...</td>\n",
       "      <td>{'longitude': '-118.24156', 'latitude': '34.05...</td>\n",
       "    </tr>\n",
       "    <tr>\n",
       "      <th>3</th>\n",
       "      <td>1944197</td>\n",
       "      <td>10860</td>\n",
       "      <td>2016-07-07T10:37:00</td>\n",
       "      <td>2016-07-07T13:38:00</td>\n",
       "      <td>3016.0</td>\n",
       "      <td>34.052898</td>\n",
       "      <td>-118.24156</td>\n",
       "      <td>3016.0</td>\n",
       "      <td>34.052898</td>\n",
       "      <td>-118.24156</td>\n",
       "      <td>5861.0</td>\n",
       "      <td>365.0</td>\n",
       "      <td>Round Trip</td>\n",
       "      <td>Flex Pass</td>\n",
       "      <td>{'longitude': '-118.24156', 'latitude': '34.05...</td>\n",
       "      <td>{'longitude': '-118.24156', 'latitude': '34.05...</td>\n",
       "    </tr>\n",
       "    <tr>\n",
       "      <th>4</th>\n",
       "      <td>1940317</td>\n",
       "      <td>420</td>\n",
       "      <td>2016-07-07T12:51:00</td>\n",
       "      <td>2016-07-07T12:58:00</td>\n",
       "      <td>3032.0</td>\n",
       "      <td>34.049889</td>\n",
       "      <td>-118.25588</td>\n",
       "      <td>3032.0</td>\n",
       "      <td>34.049889</td>\n",
       "      <td>-118.25588</td>\n",
       "      <td>6674.0</td>\n",
       "      <td>0.0</td>\n",
       "      <td>Round Trip</td>\n",
       "      <td>Walk-up</td>\n",
       "      <td>{'longitude': '-118.25588', 'latitude': '34.04...</td>\n",
       "      <td>{'longitude': '-118.25588', 'latitude': '34.04...</td>\n",
       "    </tr>\n",
       "  </tbody>\n",
       "</table>\n",
       "</div>"
      ],
      "text/plain": [
       "   Trip ID  Duration           Start Time             End Time  \\\n",
       "0  1912818       180  2016-07-07T04:17:00  2016-07-07T04:20:00   \n",
       "1  1919661      1980  2016-07-07T06:00:00  2016-07-07T06:33:00   \n",
       "2  1933383       300  2016-07-07T10:32:00  2016-07-07T10:37:00   \n",
       "3  1944197     10860  2016-07-07T10:37:00  2016-07-07T13:38:00   \n",
       "4  1940317       420  2016-07-07T12:51:00  2016-07-07T12:58:00   \n",
       "\n",
       "   Starting Station ID  Starting Station Latitude  Starting Station Longitude  \\\n",
       "0               3014.0                  34.056610                  -118.23721   \n",
       "1               3014.0                  34.056610                  -118.23721   \n",
       "2               3016.0                  34.052898                  -118.24156   \n",
       "3               3016.0                  34.052898                  -118.24156   \n",
       "4               3032.0                  34.049889                  -118.25588   \n",
       "\n",
       "   Ending Station ID  Ending Station Latitude  Ending Station Longitude  \\\n",
       "0             3014.0                34.056610                -118.23721   \n",
       "1             3014.0                34.056610                -118.23721   \n",
       "2             3016.0                34.052898                -118.24156   \n",
       "3             3016.0                34.052898                -118.24156   \n",
       "4             3032.0                34.049889                -118.25588   \n",
       "\n",
       "   Bike ID  Plan Duration Trip Route Category Passholder Type  \\\n",
       "0   6281.0           30.0          Round Trip    Monthly Pass   \n",
       "1   6281.0           30.0          Round Trip    Monthly Pass   \n",
       "2   5861.0          365.0          Round Trip       Flex Pass   \n",
       "3   5861.0          365.0          Round Trip       Flex Pass   \n",
       "4   6674.0            0.0          Round Trip         Walk-up   \n",
       "\n",
       "                                   Starting Lat-Long  \\\n",
       "0  {'longitude': '-118.23721', 'latitude': '34.05...   \n",
       "1  {'longitude': '-118.23721', 'latitude': '34.05...   \n",
       "2  {'longitude': '-118.24156', 'latitude': '34.05...   \n",
       "3  {'longitude': '-118.24156', 'latitude': '34.05...   \n",
       "4  {'longitude': '-118.25588', 'latitude': '34.04...   \n",
       "\n",
       "                                     Ending Lat-Long  \n",
       "0  {'longitude': '-118.23721', 'latitude': '34.05...  \n",
       "1  {'longitude': '-118.23721', 'latitude': '34.05...  \n",
       "2  {'longitude': '-118.24156', 'latitude': '34.05...  \n",
       "3  {'longitude': '-118.24156', 'latitude': '34.05...  \n",
       "4  {'longitude': '-118.25588', 'latitude': '34.04...  "
      ]
     },
     "execution_count": 3,
     "metadata": {},
     "output_type": "execute_result"
    }
   ],
   "source": [
    "data.head()"
   ]
  },
  {
   "cell_type": "code",
   "execution_count": 4,
   "metadata": {},
   "outputs": [
    {
     "name": "stdout",
     "output_type": "stream",
     "text": [
      "Index(['Trip ID', 'Duration', 'Start Time', 'End Time', 'Starting Station ID',\n",
      "       'Starting Station Latitude', 'Starting Station Longitude',\n",
      "       'Ending Station ID', 'Ending Station Latitude',\n",
      "       'Ending Station Longitude', 'Bike ID', 'Plan Duration',\n",
      "       'Trip Route Category', 'Passholder Type', 'Starting Lat-Long',\n",
      "       'Ending Lat-Long'],\n",
      "      dtype='object')\n",
      "Number of vars: 16\n",
      "Number of transactions: 132427\n"
     ]
    }
   ],
   "source": [
    "print(data.columns)\n",
    "print('Number of vars: ' + str(len(data.columns)))\n",
    "print('Number of transactions: ' + str(len(data.index)))"
   ]
  },
  {
   "cell_type": "markdown",
   "metadata": {},
   "source": [
    "## Stations"
   ]
  },
  {
   "cell_type": "code",
   "execution_count": 5,
   "metadata": {},
   "outputs": [
    {
     "data": {
      "text/plain": [
       "67"
      ]
     },
     "execution_count": 5,
     "metadata": {},
     "output_type": "execute_result"
    }
   ],
   "source": [
    "# how many unique stations are there?\n",
    "data['Starting Station ID'].nunique()"
   ]
  },
  {
   "cell_type": "markdown",
   "metadata": {},
   "source": [
    "Last two columns seem kind of redundant."
   ]
  },
  {
   "cell_type": "code",
   "execution_count": 17,
   "metadata": {},
   "outputs": [
    {
     "name": "stdout",
     "output_type": "stream",
     "text": [
      "Bpttom STATIONS\n",
      "    Starting Station ID  counts\n",
      "41               3053.0      13\n",
      "0                3000.0      29\n",
      "5                3009.0      56\n",
      "66               4108.0     108\n",
      "31               3039.0     115\n",
      "\n",
      "Top STATIONS\n",
      "    Starting Station ID  counts\n",
      "56               3069.0    5138\n",
      "22               3030.0    5059\n",
      "1                3005.0    4883\n",
      "51               3064.0    4661\n",
      "23               3031.0    4629\n"
     ]
    }
   ],
   "source": [
    "station_counts = data.groupby('Starting Station ID').size().reset_index(name=\"counts\")\n",
    "print(\"Bpttom STATIONS\")\n",
    "print(station_counts.sort_values('counts', ascending=True).head())\n",
    "print()\n",
    "print(\"Top STATIONS\")\n",
    "print(station_counts.sort_values('counts', ascending=False).head())"
   ]
  },
  {
   "cell_type": "code",
   "execution_count": 18,
   "metadata": {},
   "outputs": [],
   "source": [
    "top = station_counts.sort_values('counts', ascending=True).head()\n",
    "bottom = station_counts.sort_values('counts', ascending=False).head()"
   ]
  },
  {
   "cell_type": "code",
   "execution_count": 19,
   "metadata": {},
   "outputs": [
    {
     "data": {
      "text/plain": [
       "<matplotlib.axes._subplots.AxesSubplot at 0x1bde40b2908>"
      ]
     },
     "execution_count": 19,
     "metadata": {},
     "output_type": "execute_result"
    },
    {
     "data": {
      "image/png": "[encoded data removed]",
      "text/plain": [
       "<Figure size 432x288 with 1 Axes>"
      ]
     },
     "metadata": {},
     "output_type": "display_data"
    }
   ],
   "source": [
    "sns.barplot(data=top, x='Starting Station ID', y='counts')\n"
   ]
  },
  {
   "cell_type": "code",
   "execution_count": 20,
   "metadata": {},
   "outputs": [
    {
     "data": {
      "text/plain": [
       "<matplotlib.axes._subplots.AxesSubplot at 0x1bde40fd320>"
      ]
     },
     "execution_count": 20,
     "metadata": {},
     "output_type": "execute_result"
    },
    {
     "data": {
      "image/png": "[encoded data removed]",
      "text/plain": [
       "<Figure size 432x288 with 1 Axes>"
      ]
     },
     "metadata": {},
     "output_type": "display_data"
    }
   ],
   "source": [
    "sns.barplot(data=bottom, x='Starting Station ID', y='counts')"
   ]
  },
  {
   "cell_type": "markdown",
   "metadata": {},
   "source": [
    "So the range in station usage can very a lot. For training models, convert the destination var into one-hot model?"
   ]
  },
  {
   "cell_type": "markdown",
   "metadata": {},
   "source": [
    "### Generating Station Objects"
   ]
  },
  {
   "cell_type": "code",
   "execution_count": 7,
   "metadata": {},
   "outputs": [
    {
     "data": {
      "text/html": [
       "<div>\n",
       "<style scoped>\n",
       "    .dataframe tbody tr th:only-of-type {\n",
       "        vertical-align: middle;\n",
       "    }\n",
       "\n",
       "    .dataframe tbody tr th {\n",
       "        vertical-align: top;\n",
       "    }\n",
       "\n",
       "    .dataframe thead th {\n",
       "        text-align: right;\n",
       "    }\n",
       "</style>\n",
       "<table border=\"1\" class=\"dataframe\">\n",
       "  <thead>\n",
       "    <tr style=\"text-align: right;\">\n",
       "      <th></th>\n",
       "      <th>Starting Station ID</th>\n",
       "      <th>Starting Station Latitude</th>\n",
       "      <th>Starting Station Longitude</th>\n",
       "    </tr>\n",
       "    <tr>\n",
       "      <th>Starting Station ID</th>\n",
       "      <th></th>\n",
       "      <th></th>\n",
       "      <th></th>\n",
       "    </tr>\n",
       "  </thead>\n",
       "  <tbody>\n",
       "    <tr>\n",
       "      <th>3005.0</th>\n",
       "      <td>3005.0</td>\n",
       "      <td>34.048550</td>\n",
       "      <td>-118.259049</td>\n",
       "    </tr>\n",
       "    <tr>\n",
       "      <th>3006.0</th>\n",
       "      <td>3006.0</td>\n",
       "      <td>34.045540</td>\n",
       "      <td>-118.256669</td>\n",
       "    </tr>\n",
       "    <tr>\n",
       "      <th>3007.0</th>\n",
       "      <td>3007.0</td>\n",
       "      <td>34.050480</td>\n",
       "      <td>-118.254592</td>\n",
       "    </tr>\n",
       "    <tr>\n",
       "      <th>3008.0</th>\n",
       "      <td>3008.0</td>\n",
       "      <td>34.046612</td>\n",
       "      <td>-118.262732</td>\n",
       "    </tr>\n",
       "    <tr>\n",
       "      <th>3009.0</th>\n",
       "      <td>3009.0</td>\n",
       "      <td>33.987381</td>\n",
       "      <td>-118.472832</td>\n",
       "    </tr>\n",
       "  </tbody>\n",
       "</table>\n",
       "</div>"
      ],
      "text/plain": [
       "                     Starting Station ID  Starting Station Latitude  \\\n",
       "Starting Station ID                                                   \n",
       "3005.0                            3005.0                  34.048550   \n",
       "3006.0                            3006.0                  34.045540   \n",
       "3007.0                            3007.0                  34.050480   \n",
       "3008.0                            3008.0                  34.046612   \n",
       "3009.0                            3009.0                  33.987381   \n",
       "\n",
       "                     Starting Station Longitude  \n",
       "Starting Station ID                              \n",
       "3005.0                              -118.259049  \n",
       "3006.0                              -118.256669  \n",
       "3007.0                              -118.254592  \n",
       "3008.0                              -118.262732  \n",
       "3009.0                              -118.472832  "
      ]
     },
     "metadata": {},
     "output_type": "display_data"
    },
    {
     "name": "stdout",
     "output_type": "stream",
     "text": [
      "Station JavaScript Object:\n",
      "[\n",
      "\t{\n",
      "\t\tid: 3005,\n",
      "\t\tposition: {lat: 34.04854988302644, lng: -118.25904877983515}\n",
      "\t},\n",
      "\t{\n",
      "\t\tid: 3006,\n",
      "\t\tposition: {lat: 34.04553995136754, lng: -118.25666897267321}\n",
      "\t},\n",
      "\t{\n",
      "\t\tid: 3007,\n",
      "\t\tposition: {lat: 34.05047996057554, lng: -118.25459181722862}\n",
      "\t},\n",
      "\t{\n",
      "\t\tid: 3008,\n",
      "\t\tposition: {lat: 34.04661191456394, lng: -118.26273171846543}\n",
      "\t},\n",
      "\t{\n",
      "\t\tid: 3009,\n",
      "\t\tposition: {lat: 33.98738099999997, lng: -118.47283200000012}\n",
      "\t},\n",
      "\t{\n",
      "\t\tid: 3010,\n",
      "\t\tposition: {lat: 34.03704815667448, lng: -118.25486904449798}\n",
      "\t},\n",
      "\t{\n",
      "\t\tid: 3011,\n",
      "\t\tposition: {lat: 34.04113003635652, lng: -118.26798127287235}\n",
      "\t},\n",
      "\t{\n",
      "\t\tid: 3014,\n",
      "\t\tposition: {lat: 34.0566100449573, lng: -118.23721165128431}\n",
      "\t},\n",
      "\t{\n",
      "\t\tid: 3016,\n",
      "\t\tposition: {lat: 34.052898193344554, lng: -118.24156103328538}\n",
      "\t},\n",
      "\t{\n",
      "\t\tid: 3018,\n",
      "\t\tposition: {lat: 34.04373185854561, lng: -118.26013947151228}\n",
      "\t},\n",
      "\t{\n",
      "\t\tid: 3019,\n",
      "\t\tposition: {lat: 34.038608820734325, lng: -118.26085834449653}\n",
      "\t},\n",
      "\t{\n",
      "\t\tid: 3020,\n",
      "\t\tposition: {lat: 34.0310518401515, lng: -118.2670900000008}\n",
      "\t},\n",
      "\t{\n",
      "\t\tid: 3021,\n",
      "\t\tposition: {lat: 34.045608499999545, lng: -118.23702999999976}\n",
      "\t},\n",
      "\t{\n",
      "\t\tid: 3022,\n",
      "\t\tposition: {lat: 34.046070039196444, lng: -118.23309182404712}\n",
      "\t},\n",
      "\t{\n",
      "\t\tid: 3023,\n",
      "\t\tposition: {lat: 34.05091095823162, lng: -118.24096825302657}\n",
      "\t},\n",
      "\t{\n",
      "\t\tid: 3024,\n",
      "\t\tposition: {lat: 34.05772011457928, lng: -118.24896999999577}\n",
      "\t},\n",
      "\t{\n",
      "\t\tid: 3025,\n",
      "\t\tposition: {lat: 34.03285992939254, lng: -118.26808129393024}\n",
      "\t},\n",
      "\t{\n",
      "\t\tid: 3026,\n",
      "\t\tposition: {lat: 34.06317899999916, lng: -118.24588000000172}\n",
      "\t},\n",
      "\t{\n",
      "\t\tid: 3027,\n",
      "\t\tposition: {lat: 34.04998007813891, lng: -118.2471612186194}\n",
      "\t},\n",
      "\t{\n",
      "\t\tid: 3028,\n",
      "\t\tposition: {lat: 34.05831904147642, lng: -118.24609234096822}\n",
      "\t},\n",
      "\t{\n",
      "\t\tid: 3029,\n",
      "\t\tposition: {lat: 34.04885099999959, lng: -118.24642124920925}\n",
      "\t},\n",
      "\t{\n",
      "\t\tid: 3030,\n",
      "\t\tposition: {lat: 34.051940956554375, lng: -118.24352999998987}\n",
      "\t},\n",
      "\t{\n",
      "\t\tid: 3031,\n",
      "\t\tposition: {lat: 34.04470083685876, lng: -118.25244059214438}\n",
      "\t},\n",
      "\t{\n",
      "\t\tid: 3032,\n",
      "\t\tposition: {lat: 34.049888806326564, lng: -118.25588103163133}\n",
      "\t},\n",
      "\t{\n",
      "\t\tid: 3033,\n",
      "\t\tposition: {lat: 34.040988957122856, lng: -118.25579885754472}\n",
      "\t},\n",
      "\t{\n",
      "\t\tid: 3034,\n",
      "\t\tposition: {lat: 34.04206095383583, lng: -118.2633810767145}\n",
      "\t},\n",
      "\t{\n",
      "\t\tid: 3035,\n",
      "\t\tposition: {lat: 34.04840095645577, lng: -118.26094887082115}\n",
      "\t},\n",
      "\t{\n",
      "\t\tid: 3036,\n",
      "\t\tposition: {lat: 34.039188198785666, lng: -118.23252949696511}\n",
      "\t},\n",
      "\t{\n",
      "\t\tid: 3037,\n",
      "\t\tposition: {lat: 34.034801198893604, lng: -118.23127819335623}\n",
      "\t},\n",
      "\t{\n",
      "\t\tid: 3038,\n",
      "\t\tposition: {lat: 34.046821820691136, lng: -118.24835110345542}\n",
      "\t},\n",
      "\t{\n",
      "\t\tid: 3039,\n",
      "\t\tposition: {lat: 34.02447900000006, lng: -118.39386700000016}\n",
      "\t},\n",
      "\t{\n",
      "\t\tid: 3040,\n",
      "\t\tposition: {lat: 34.053569901466155, lng: -118.26635847800655}\n",
      "\t},\n",
      "\t{\n",
      "\t\tid: 3042,\n",
      "\t\tposition: {lat: 34.04930104500887, lng: -118.23880890012278}\n",
      "\t},\n",
      "\t{\n",
      "\t\tid: 3045,\n",
      "\t\tposition: {lat: 34.028511000000144, lng: -118.25666899465291}\n",
      "\t},\n",
      "\t{\n",
      "\t\tid: 3046,\n",
      "\t\tposition: {lat: 34.05302022292234, lng: -118.24794889169321}\n",
      "\t},\n",
      "\t{\n",
      "\t\tid: 3047,\n",
      "\t\tposition: {lat: 34.03998192278149, lng: -118.26640184169678}\n",
      "\t},\n",
      "\t{\n",
      "\t\tid: 3048,\n",
      "\t\tposition: {lat: 34.041690923462575, lng: -118.2353512346028}\n",
      "\t},\n",
      "\t{\n",
      "\t\tid: 3049,\n",
      "\t\tposition: {lat: 34.056968874634066, lng: -118.25359174635389}\n",
      "\t},\n",
      "\t{\n",
      "\t\tid: 3051,\n",
      "\t\tposition: {lat: 34.04542184403585, lng: -118.25351816974045}\n",
      "\t},\n",
      "\t{\n",
      "\t\tid: 3052,\n",
      "\t\tposition: {lat: 34.05110187216894, lng: -118.26455827828961}\n",
      "\t},\n",
      "\t{\n",
      "\t\tid: 3053,\n",
      "\t\tposition: {lat: 34.0400391, lng: -118.26302000000003}\n",
      "\t},\n",
      "\t{\n",
      "\t\tid: 3054,\n",
      "\t\tposition: {lat: 34.03921895653108, lng: -118.23648886936301}\n",
      "\t},\n",
      "\t{\n",
      "\t\tid: 3055,\n",
      "\t\tposition: {lat: 34.044158958958306, lng: -118.25157941039008}\n",
      "\t},\n",
      "\t{\n",
      "\t\tid: 3056,\n",
      "\t\tposition: {lat: 34.03746011601606, lng: -118.26538061328098}\n",
      "\t},\n",
      "\t{\n",
      "\t\tid: 3057,\n",
      "\t\tposition: {lat: 34.035678957368546, lng: -118.27081172105325}\n",
      "\t},\n",
      "\t{\n",
      "\t\tid: 3058,\n",
      "\t\tposition: {lat: 34.03580095696844, lng: -118.23316999999895}\n",
      "\t},\n",
      "\t{\n",
      "\t\tid: 3059,\n",
      "\t\tposition: {lat: 34.03794883935353, lng: -118.25627059838385}\n",
      "\t},\n",
      "\t{\n",
      "\t\tid: 3060,\n",
      "\t\tposition: {lat: 34.03488181409913, lng: -118.25768999999917}\n",
      "\t},\n",
      "\t{\n",
      "\t\tid: 3062,\n",
      "\t\tposition: {lat: 34.04774886804316, lng: -118.24317134020936}\n",
      "\t},\n",
      "\t{\n",
      "\t\tid: 3063,\n",
      "\t\tposition: {lat: 34.04919807839724, lng: -118.25283060800388}\n",
      "\t},\n",
      "\t{\n",
      "\t\tid: 3064,\n",
      "\t\tposition: {lat: 34.04681007972566, lng: -118.25698060137958}\n",
      "\t},\n",
      "\t{\n",
      "\t\tid: 3065,\n",
      "\t\tposition: {lat: 34.060558130645454, lng: -118.23832830645117}\n",
      "\t},\n",
      "\t{\n",
      "\t\tid: 3066,\n",
      "\t\tposition: {lat: 34.06338891452694, lng: -118.23616000000037}\n",
      "\t},\n",
      "\t{\n",
      "\t\tid: 3067,\n",
      "\t\tposition: {lat: 34.04518112957378, lng: -118.25023829575832}\n",
      "\t},\n",
      "\t{\n",
      "\t\tid: 3068,\n",
      "\t\tposition: {lat: 34.053199928965334, lng: -118.25095257932848}\n",
      "\t},\n",
      "\t{\n",
      "\t\tid: 3069,\n",
      "\t\tposition: {lat: 34.05088016566424, lng: -118.24825175750168}\n",
      "\t},\n",
      "\t{\n",
      "\t\tid: 3074,\n",
      "\t\tposition: {lat: 34.04417017565079, lng: -118.26116943913074}\n",
      "\t},\n",
      "\t{\n",
      "\t\tid: 3075,\n",
      "\t\tposition: {lat: 34.0421101711066, lng: -118.2561882832908}\n",
      "\t},\n",
      "\t{\n",
      "\t\tid: 3076,\n",
      "\t\tposition: {lat: 34.040599914345755, lng: -118.25383885654507}\n",
      "\t},\n",
      "\t{\n",
      "\t\tid: 3077,\n",
      "\t\tposition: {lat: 34.039871081047906, lng: -118.25003881047263}\n",
      "\t},\n",
      "\t{\n",
      "\t\tid: 3078,\n",
      "\t\tposition: {lat: 34.06428116780403, lng: -118.2389380068271}\n",
      "\t},\n",
      "\t{\n",
      "\t\tid: 3079,\n",
      "\t\tposition: {lat: 34.05014017604584, lng: -118.23323888023153}\n",
      "\t},\n",
      "\t{\n",
      "\t\tid: 3080,\n",
      "\t\tposition: {lat: 34.03421008272239, lng: -118.25459175916254}\n",
      "\t},\n",
      "\t{\n",
      "\t\tid: 3081,\n",
      "\t\tposition: {lat: 34.031890973861614, lng: -118.25018221584963}\n",
      "\t},\n",
      "\t{\n",
      "\t\tid: 3082,\n",
      "\t\tposition: {lat: 34.04652004094437, lng: -118.23741079529809}\n",
      "\t},\n",
      "\t{\n",
      "\t\tid: 4108,\n",
      "\t\tposition: {lat: 23.94414481481477, lng: -83.2046895185184}\n",
      "\t},\n",
      "]\n"
     ]
    }
   ],
   "source": [
    "station_counts = data.groupby('Starting Station ID').agg('mean')\n",
    "station_counts['Starting Station ID'] = station_counts.index\n",
    "station_cols = ['Starting Station ID', 'Starting Station Latitude', 'Starting Station Longitude']\n",
    "unique_stations = station_counts[station_cols].dropna()\n",
    "display(unique_stations.head())\n",
    "\n",
    "\n",
    "print('Station JavaScript Object:')\n",
    "print('[')\n",
    "for index, station in unique_stations.iterrows():\n",
    "    print('\\t{')\n",
    "    print('\\t\\tid: {},'. format(int(station['Starting Station ID'])))\n",
    "    print('\\t\\tposition: {{lat: {}, lng: {}}}'.format(station['Starting Station Latitude'], station['Starting Station Longitude']))\n",
    "    print('\\t},')\n",
    "print(']')\n"
   ]
  },
  {
   "cell_type": "code",
   "execution_count": null,
   "metadata": {},
   "outputs": [],
   "source": []
  },
  {
   "cell_type": "markdown",
   "metadata": {},
   "source": [
    "## Plan Characteristics"
   ]
  },
  {
   "cell_type": "code",
   "execution_count": 8,
   "metadata": {},
   "outputs": [
    {
     "data": {
      "text/plain": [
       "<matplotlib.axes._subplots.AxesSubplot at 0x1bde3c70a90>"
      ]
     },
     "execution_count": 8,
     "metadata": {},
     "output_type": "execute_result"
    },
    {
     "data": {
      "image/png": "[encoded data removed]",
      "text/plain": [
       "<Figure size 432x288 with 1 Axes>"
      ]
     },
     "metadata": {},
     "output_type": "display_data"
    }
   ],
   "source": [
    "sns.countplot(data=data, x='Passholder Type')"
   ]
  },
  {
   "cell_type": "code",
   "execution_count": 9,
   "metadata": {},
   "outputs": [
    {
     "data": {
      "text/plain": [
       "<matplotlib.axes._subplots.AxesSubplot at 0x1bde3f0c518>"
      ]
     },
     "execution_count": 9,
     "metadata": {},
     "output_type": "execute_result"
    },
    {
     "data": {
      "image/png": "[encoded data removed]",
      "text/plain": [
       "<Figure size 432x288 with 1 Axes>"
      ]
     },
     "metadata": {},
     "output_type": "display_data"
    }
   ],
   "source": [
    "sns.countplot(data=data, x='Plan Duration')"
   ]
  },
  {
   "cell_type": "markdown",
   "metadata": {},
   "source": [
    "It would be interesting to see how these two features interact. Do walk-ups (plan duration 0) a large population of users?"
   ]
  },
  {
   "cell_type": "markdown",
   "metadata": {},
   "source": [
    "## Trip Characteristics"
   ]
  },
  {
   "cell_type": "code",
   "execution_count": 10,
   "metadata": {},
   "outputs": [
    {
     "data": {
      "text/plain": [
       "<matplotlib.axes._subplots.AxesSubplot at 0x1bde3f62898>"
      ]
     },
     "execution_count": 10,
     "metadata": {},
     "output_type": "execute_result"
    },
    {
     "data": {
      "image/png": "[encoded data removed]",
      "text/plain": [
       "<Figure size 432x288 with 1 Axes>"
      ]
     },
     "metadata": {},
     "output_type": "display_data"
    }
   ],
   "source": [
    "sns.countplot(data=data, x='Trip Route Category')"
   ]
  },
  {
   "cell_type": "markdown",
   "metadata": {},
   "source": [
    "Potential feature for deciding whether bike will return to starting point."
   ]
  },
  {
   "cell_type": "code",
   "execution_count": null,
   "metadata": {},
   "outputs": [],
   "source": []
  },
  {
   "cell_type": "markdown",
   "metadata": {},
   "source": [
    "## Timing"
   ]
  },
  {
   "cell_type": "markdown",
   "metadata": {},
   "source": [
    "What kind of users spend the most time riding? I'm assuming we want to target those who ride for a long time and frequently. Is that the same population? How does time of year, time of day change riding habits?"
   ]
  },
  {
   "cell_type": "code",
   "execution_count": null,
   "metadata": {},
   "outputs": [],
   "source": []
  },
  {
   "cell_type": "code",
   "execution_count": null,
   "metadata": {},
   "outputs": [],
   "source": []
  },
  {
   "cell_type": "code",
   "execution_count": null,
   "metadata": {},
   "outputs": [],
   "source": []
  },
  {
   "cell_type": "markdown",
   "metadata": {},
   "source": [
    "## Graphs, Multiple Vars"
   ]
  },
  {
   "cell_type": "code",
   "execution_count": null,
   "metadata": {},
   "outputs": [],
   "source": []
  },
  {
   "cell_type": "markdown",
   "metadata": {},
   "source": [
    "## Possible Ideas"
   ]
  },
  {
   "cell_type": "markdown",
   "metadata": {},
   "source": [
    "A simulation where the user can place bikes onto a map and using models trained from the bike share dataset, we can model how the bikes move between stations over time."
   ]
  }
 ],
 "metadata": {
  "kernelspec": {
   "display_name": "Python 3",
   "language": "python",
   "name": "python3"
  },
  "language_info": {
   "codemirror_mode": {
    "name": "ipython",
    "version": 3
   },
   "file_extension": ".py",
   "mimetype": "text/x-python",
   "name": "python",
   "nbconvert_exporter": "python",
   "pygments_lexer": "ipython3",
   "version": "3.6.4"
  }
 },
 "nbformat": 4,
 "nbformat_minor": 2
}
