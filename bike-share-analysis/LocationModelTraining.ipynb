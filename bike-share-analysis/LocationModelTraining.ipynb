{
 "cells": [
  {
   "cell_type": "markdown",
   "metadata": {},
   "source": [
    "# Training Models for Simulation"
   ]
  },
  {
   "cell_type": "markdown",
   "metadata": {},
   "source": [
    "The plan is to create machine learning models that can be used to calculate probabilities to use in an agent-based simulation that models the movement of bikes between stations."
   ]
  },
  {
   "cell_type": "markdown",
   "metadata": {},
   "source": [
    "Ideas for models: \n",
    "\n",
    "1. a model to find the probability that a given bike will be checked out at any point in the day.\n",
    "2. if a bike is chosen, how long will it be used for and which destination is it going to?\n",
    "\n",
    "Concerns:\n",
    "\n",
    "1. Applying the model to bikes at every location might be pretty expensive?\n",
    "2. Should I precompute the day's bike movements and then present the simulation (potentially longer load time but one call), or should I make API calls during the simulation (lots of API calls but simulation can start right away).\n",
    "3. How often should I update the values? Every thirty minutes, every hour?\n",
    "4. Possibility for caching predictions? To be honest, it might be easier to compute all possbilities upfront --> no need for a server\n",
    "5. How to even determine if a bike is rented at any point in time.\n",
    "\n",
    "I'm thinking that the best approach will be to compute all possibilties upfront to avoid the prediction actually having to be computed in real time because I don't think there are that many variables. However, I think there should still be some API holding all these values, so they don't have to be loaded on the client side. So the workflow will be:\n",
    "\n",
    "1. Create models based on bike share data\n",
    "2. Feed in all combinations to see prediction based on time, station, etc.\n",
    "3. The simulation will send API calls (number of API calls less of an issue if values are precomputed) which will return probabilities for the current bikes\n",
    "4. Users can run the simulation for different times of day, nubmers of bikes at each stations (let users save states for the simulations?)"
   ]
  },
  {
   "cell_type": "code",
   "execution_count": 1,
   "metadata": {},
   "outputs": [],
   "source": [
    "import numpy as np\n",
    "import pandas as pd\n",
    "import matplotlib.pyplot as plt\n",
    "import seaborn as sns\n",
    "%matplotlib inline"
   ]
  },
  {
   "cell_type": "code",
   "execution_count": 2,
   "metadata": {},
   "outputs": [
    {
     "name": "stderr",
     "output_type": "stream",
     "text": [
      "C:\\Users\\grant\\Anaconda3\\lib\\site-packages\\IPython\\core\\interactiveshell.py:2728: DtypeWarning: Columns (14) have mixed types. Specify dtype option on import or set low_memory=False.\n",
      "  interactivity=interactivity, compiler=compiler, result=result)\n"
     ]
    }
   ],
   "source": [
    "# import data\n",
    "data = pd.read_csv('./data/metro-bike-share-trip-data.csv')"
   ]
  },
  {
   "cell_type": "code",
   "execution_count": 3,
   "metadata": {},
   "outputs": [
    {
     "data": {
      "text/html": [
       "<div>\n",
       "<style scoped>\n",
       "    .dataframe tbody tr th:only-of-type {\n",
       "        vertical-align: middle;\n",
       "    }\n",
       "\n",
       "    .dataframe tbody tr th {\n",
       "        vertical-align: top;\n",
       "    }\n",
       "\n",
       "    .dataframe thead th {\n",
       "        text-align: right;\n",
       "    }\n",
       "</style>\n",
       "<table border=\"1\" class=\"dataframe\">\n",
       "  <thead>\n",
       "    <tr style=\"text-align: right;\">\n",
       "      <th></th>\n",
       "      <th>Trip ID</th>\n",
       "      <th>Duration</th>\n",
       "      <th>Start Time</th>\n",
       "      <th>End Time</th>\n",
       "      <th>Starting Station ID</th>\n",
       "      <th>Starting Station Latitude</th>\n",
       "      <th>Starting Station Longitude</th>\n",
       "      <th>Ending Station ID</th>\n",
       "      <th>Ending Station Latitude</th>\n",
       "      <th>Ending Station Longitude</th>\n",
       "      <th>Bike ID</th>\n",
       "      <th>Plan Duration</th>\n",
       "      <th>Trip Route Category</th>\n",
       "      <th>Passholder Type</th>\n",
       "      <th>Starting Lat-Long</th>\n",
       "      <th>Ending Lat-Long</th>\n",
       "    </tr>\n",
       "  </thead>\n",
       "  <tbody>\n",
       "    <tr>\n",
       "      <th>0</th>\n",
       "      <td>1912818</td>\n",
       "      <td>180</td>\n",
       "      <td>2016-07-07T04:17:00</td>\n",
       "      <td>2016-07-07T04:20:00</td>\n",
       "      <td>3014.0</td>\n",
       "      <td>34.056610</td>\n",
       "      <td>-118.23721</td>\n",
       "      <td>3014.0</td>\n",
       "      <td>34.056610</td>\n",
       "      <td>-118.23721</td>\n",
       "      <td>6281.0</td>\n",
       "      <td>30.0</td>\n",
       "      <td>Round Trip</td>\n",
       "      <td>Monthly Pass</td>\n",
       "      <td>{'longitude': '-118.23721', 'latitude': '34.05...</td>\n",
       "      <td>{'longitude': '-118.23721', 'latitude': '34.05...</td>\n",
       "    </tr>\n",
       "    <tr>\n",
       "      <th>1</th>\n",
       "      <td>1919661</td>\n",
       "      <td>1980</td>\n",
       "      <td>2016-07-07T06:00:00</td>\n",
       "      <td>2016-07-07T06:33:00</td>\n",
       "      <td>3014.0</td>\n",
       "      <td>34.056610</td>\n",
       "      <td>-118.23721</td>\n",
       "      <td>3014.0</td>\n",
       "      <td>34.056610</td>\n",
       "      <td>-118.23721</td>\n",
       "      <td>6281.0</td>\n",
       "      <td>30.0</td>\n",
       "      <td>Round Trip</td>\n",
       "      <td>Monthly Pass</td>\n",
       "      <td>{'longitude': '-118.23721', 'latitude': '34.05...</td>\n",
       "      <td>{'longitude': '-118.23721', 'latitude': '34.05...</td>\n",
       "    </tr>\n",
       "    <tr>\n",
       "      <th>2</th>\n",
       "      <td>1933383</td>\n",
       "      <td>300</td>\n",
       "      <td>2016-07-07T10:32:00</td>\n",
       "      <td>2016-07-07T10:37:00</td>\n",
       "      <td>3016.0</td>\n",
       "      <td>34.052898</td>\n",
       "      <td>-118.24156</td>\n",
       "      <td>3016.0</td>\n",
       "      <td>34.052898</td>\n",
       "      <td>-118.24156</td>\n",
       "      <td>5861.0</td>\n",
       "      <td>365.0</td>\n",
       "      <td>Round Trip</td>\n",
       "      <td>Flex Pass</td>\n",
       "      <td>{'longitude': '-118.24156', 'latitude': '34.05...</td>\n",
       "      <td>{'longitude': '-118.24156', 'latitude': '34.05...</td>\n",
       "    </tr>\n",
       "    <tr>\n",
       "      <th>3</th>\n",
       "      <td>1944197</td>\n",
       "      <td>10860</td>\n",
       "      <td>2016-07-07T10:37:00</td>\n",
       "      <td>2016-07-07T13:38:00</td>\n",
       "      <td>3016.0</td>\n",
       "      <td>34.052898</td>\n",
       "      <td>-118.24156</td>\n",
       "      <td>3016.0</td>\n",
       "      <td>34.052898</td>\n",
       "      <td>-118.24156</td>\n",
       "      <td>5861.0</td>\n",
       "      <td>365.0</td>\n",
       "      <td>Round Trip</td>\n",
       "      <td>Flex Pass</td>\n",
       "      <td>{'longitude': '-118.24156', 'latitude': '34.05...</td>\n",
       "      <td>{'longitude': '-118.24156', 'latitude': '34.05...</td>\n",
       "    </tr>\n",
       "    <tr>\n",
       "      <th>4</th>\n",
       "      <td>1940317</td>\n",
       "      <td>420</td>\n",
       "      <td>2016-07-07T12:51:00</td>\n",
       "      <td>2016-07-07T12:58:00</td>\n",
       "      <td>3032.0</td>\n",
       "      <td>34.049889</td>\n",
       "      <td>-118.25588</td>\n",
       "      <td>3032.0</td>\n",
       "      <td>34.049889</td>\n",
       "      <td>-118.25588</td>\n",
       "      <td>6674.0</td>\n",
       "      <td>0.0</td>\n",
       "      <td>Round Trip</td>\n",
       "      <td>Walk-up</td>\n",
       "      <td>{'longitude': '-118.25588', 'latitude': '34.04...</td>\n",
       "      <td>{'longitude': '-118.25588', 'latitude': '34.04...</td>\n",
       "    </tr>\n",
       "  </tbody>\n",
       "</table>\n",
       "</div>"
      ],
      "text/plain": [
       "   Trip ID  Duration           Start Time             End Time  \\\n",
       "0  1912818       180  2016-07-07T04:17:00  2016-07-07T04:20:00   \n",
       "1  1919661      1980  2016-07-07T06:00:00  2016-07-07T06:33:00   \n",
       "2  1933383       300  2016-07-07T10:32:00  2016-07-07T10:37:00   \n",
       "3  1944197     10860  2016-07-07T10:37:00  2016-07-07T13:38:00   \n",
       "4  1940317       420  2016-07-07T12:51:00  2016-07-07T12:58:00   \n",
       "\n",
       "   Starting Station ID  Starting Station Latitude  Starting Station Longitude  \\\n",
       "0               3014.0                  34.056610                  -118.23721   \n",
       "1               3014.0                  34.056610                  -118.23721   \n",
       "2               3016.0                  34.052898                  -118.24156   \n",
       "3               3016.0                  34.052898                  -118.24156   \n",
       "4               3032.0                  34.049889                  -118.25588   \n",
       "\n",
       "   Ending Station ID  Ending Station Latitude  Ending Station Longitude  \\\n",
       "0             3014.0                34.056610                -118.23721   \n",
       "1             3014.0                34.056610                -118.23721   \n",
       "2             3016.0                34.052898                -118.24156   \n",
       "3             3016.0                34.052898                -118.24156   \n",
       "4             3032.0                34.049889                -118.25588   \n",
       "\n",
       "   Bike ID  Plan Duration Trip Route Category Passholder Type  \\\n",
       "0   6281.0           30.0          Round Trip    Monthly Pass   \n",
       "1   6281.0           30.0          Round Trip    Monthly Pass   \n",
       "2   5861.0          365.0          Round Trip       Flex Pass   \n",
       "3   5861.0          365.0          Round Trip       Flex Pass   \n",
       "4   6674.0            0.0          Round Trip         Walk-up   \n",
       "\n",
       "                                   Starting Lat-Long  \\\n",
       "0  {'longitude': '-118.23721', 'latitude': '34.05...   \n",
       "1  {'longitude': '-118.23721', 'latitude': '34.05...   \n",
       "2  {'longitude': '-118.24156', 'latitude': '34.05...   \n",
       "3  {'longitude': '-118.24156', 'latitude': '34.05...   \n",
       "4  {'longitude': '-118.25588', 'latitude': '34.04...   \n",
       "\n",
       "                                     Ending Lat-Long  \n",
       "0  {'longitude': '-118.23721', 'latitude': '34.05...  \n",
       "1  {'longitude': '-118.23721', 'latitude': '34.05...  \n",
       "2  {'longitude': '-118.24156', 'latitude': '34.05...  \n",
       "3  {'longitude': '-118.24156', 'latitude': '34.05...  \n",
       "4  {'longitude': '-118.25588', 'latitude': '34.04...  "
      ]
     },
     "execution_count": 3,
     "metadata": {},
     "output_type": "execute_result"
    }
   ],
   "source": [
    "data.head()"
   ]
  },
  {
   "cell_type": "code",
   "execution_count": 4,
   "metadata": {},
   "outputs": [
    {
     "name": "stdout",
     "output_type": "stream",
     "text": [
      "Index(['Trip ID', 'Duration', 'Start Time', 'End Time', 'Starting Station ID',\n",
      "       'Starting Station Latitude', 'Starting Station Longitude',\n",
      "       'Ending Station ID', 'Ending Station Latitude',\n",
      "       'Ending Station Longitude', 'Bike ID', 'Plan Duration',\n",
      "       'Trip Route Category', 'Passholder Type', 'Starting Lat-Long',\n",
      "       'Ending Lat-Long'],\n",
      "      dtype='object')\n"
     ]
    }
   ],
   "source": [
    "print(data.columns)"
   ]
  },
  {
   "cell_type": "code",
   "execution_count": 5,
   "metadata": {},
   "outputs": [
    {
     "name": "stdout",
     "output_type": "stream",
     "text": [
      "<class 'pandas.core.frame.DataFrame'>\n",
      "RangeIndex: 132427 entries, 0 to 132426\n",
      "Data columns (total 16 columns):\n",
      "Trip ID                       132427 non-null int64\n",
      "Duration                      132427 non-null int64\n",
      "Start Time                    132427 non-null object\n",
      "End Time                      132427 non-null object\n",
      "Starting Station ID           132408 non-null float64\n",
      "Starting Station Latitude     132379 non-null float64\n",
      "Starting Station Longitude    132379 non-null float64\n",
      "Ending Station ID             132331 non-null float64\n",
      "Ending Station Latitude       131376 non-null float64\n",
      "Ending Station Longitude      131376 non-null float64\n",
      "Bike ID                       132417 non-null float64\n",
      "Plan Duration                 131661 non-null float64\n",
      "Trip Route Category           132427 non-null object\n",
      "Passholder Type               132427 non-null object\n",
      "Starting Lat-Long             98622 non-null object\n",
      "Ending Lat-Long               131376 non-null object\n",
      "dtypes: float64(8), int64(2), object(6)\n",
      "memory usage: 16.2+ MB\n",
      "None\n"
     ]
    }
   ],
   "source": [
    "print(data.info())"
   ]
  },
  {
   "cell_type": "markdown",
   "metadata": {},
   "source": [
    "# Setting Up Machine Learning Environment"
   ]
  },
  {
   "cell_type": "code",
   "execution_count": 6,
   "metadata": {},
   "outputs": [],
   "source": [
    "import pickle\n",
    "from sklearn.preprocessing import scale\n",
    "from sklearn.metrics import log_loss\n",
    "from sklearn.model_selection import train_test_split\n",
    "# random forest\n",
    "from sklearn.ensemble import RandomForestClassifier\n",
    "# softmax classifier\n",
    "from sklearn.linear_model import LogisticRegression\n",
    "# svm\n",
    "from sklearn.svm import LinearSVC # one-vs-rest classification\n",
    "# dimensionality reduction\n",
    "from sklearn.decomposition import FactorAnalysis"
   ]
  },
  {
   "cell_type": "markdown",
   "metadata": {},
   "source": [
    "Notes:\n",
    "* for training, I'm simply going to use one cross-validation split because there's a decent amount of data\n",
    "* because there's so many classes to predict, it may be difficult to actually find the accuracy of the model, especially because the classes are so uneven --> the best I may be able to do is apply some softmax classifier and then use the output for each class as the probability\n",
    "* I'll choose the best model not based on some number correctly predicted but by aiming for a low cost function"
   ]
  },
  {
   "cell_type": "markdown",
   "metadata": {},
   "source": [
    "I'm splitting the dataset to find the best model for the lowest cost, but I think for the final model, I'll just train it on all the data because it might give more information to the model about stations that are less frequented."
   ]
  },
  {
   "cell_type": "markdown",
   "metadata": {},
   "source": [
    "## Prep Dataset"
   ]
  },
  {
   "cell_type": "code",
   "execution_count": 7,
   "metadata": {},
   "outputs": [
    {
     "data": {
      "text/plain": [
       "<matplotlib.axes._subplots.AxesSubplot at 0x179f79ebd68>"
      ]
     },
     "execution_count": 7,
     "metadata": {},
     "output_type": "execute_result"
    },
    {
     "data": {
      "image/png": "[encoded data removed]",
      "text/plain": [
       "<Figure size 432x288 with 1 Axes>"
      ]
     },
     "metadata": {},
     "output_type": "display_data"
    }
   ],
   "source": [
    "# visualizing null values in dataset\n",
    "sns.heatmap(data.isnull(), cbar=False)"
   ]
  },
  {
   "cell_type": "markdown",
   "metadata": {},
   "source": [
    "Wow. I'm impressed that there's hardly any null values. Maybe the dataset was pre-cleaned or something."
   ]
  },
  {
   "cell_type": "code",
   "execution_count": 8,
   "metadata": {},
   "outputs": [],
   "source": [
    "# preps the dataframe with scaling and dummy vars\n",
    "# returns X, y\n",
    "def prep_df(data, target_var, cat_vars=[], cont_vars=[]):\n",
    "    df = data.copy()\n",
    "    total_vars = cont_vars + cat_vars + [target_var]\n",
    "    model_df = df[total_vars]\n",
    "    cleaned_df = model_df.dropna(subset=total_vars)\n",
    "    \n",
    "    # turns categorical vars into dummy vars\n",
    "    for var in cat_vars:\n",
    "        temp_dummy = pd.get_dummies(cleaned_df[var], prefix=var, drop_first=True)\n",
    "        cleaned_df = pd.concat([cleaned_df.drop([var], axis=1), temp_dummy], axis=1)\n",
    "    \n",
    "    # normalize the data\n",
    "    for var in cont_vars:\n",
    "        cleaned_df[var] = scale(cleaned_df[var])\n",
    "    \n",
    "    return cleaned_df"
   ]
  },
  {
   "cell_type": "markdown",
   "metadata": {},
   "source": [
    "# Destination of Chosen Bike"
   ]
  },
  {
   "cell_type": "markdown",
   "metadata": {},
   "source": [
    "Variables for model finding destination of chosen bike:\n",
    "* Start Time (to the nearest hour?)\n",
    "* Month of Travel\n",
    "* Starting Station ID\n",
    "\n",
    "Target Var:\n",
    "* End Station ID\n",
    "\n",
    "Note: not including Passholder Type to make model simpler"
   ]
  },
  {
   "cell_type": "code",
   "execution_count": 9,
   "metadata": {},
   "outputs": [
    {
     "data": {
      "text/plain": [
       "str"
      ]
     },
     "execution_count": 9,
     "metadata": {},
     "output_type": "execute_result"
    }
   ],
   "source": [
    "type(data['Start Time'][0])"
   ]
  },
  {
   "cell_type": "markdown",
   "metadata": {},
   "source": [
    "So start time is a string, which means some parsing is involved."
   ]
  },
  {
   "cell_type": "code",
   "execution_count": 10,
   "metadata": {},
   "outputs": [
    {
     "data": {
      "text/plain": [
       "0    2016-07-07T04:17:00\n",
       "1    2016-07-07T06:00:00\n",
       "2    2016-07-07T10:32:00\n",
       "3    2016-07-07T10:37:00\n",
       "4    2016-07-07T12:51:00\n",
       "Name: Start Time, dtype: object"
      ]
     },
     "execution_count": 10,
     "metadata": {},
     "output_type": "execute_result"
    }
   ],
   "source": [
    "data['Start Time'].head(5)"
   ]
  },
  {
   "cell_type": "markdown",
   "metadata": {},
   "source": [
    "Round to the nearest hour. Take the hour and"
   ]
  },
  {
   "cell_type": "markdown",
   "metadata": {},
   "source": [
    "## Location Model"
   ]
  },
  {
   "cell_type": "code",
   "execution_count": 11,
   "metadata": {},
   "outputs": [],
   "source": [
    "'''\n",
    "\n",
    "df: dataframe (after prep_df)\n",
    "target_var: variable to predict\n",
    "random_seed: keeps train/test split consistent across models\n",
    "dim_reduction: configures dimensionality reduction\n",
    "pickle: whether to pickle the model for further use\n",
    "training: whether to train on split data\n",
    "\n",
    "\n",
    "'''\n",
    "def train_location_model(df, target_var, random_seed=100, dim_reduction={'perform': False, 'n_comps': 2}, pickle_configure={'perform': False, 'filename': 'default.p'}, training=True):\n",
    "    # precaution against mutating original dataframe\n",
    "    df = df.copy()\n",
    "    training_vars = [v for v in df.columns if v != target_var]\n",
    "    \n",
    "    # performs dimensionality reduction (FA)\n",
    "    if dim_reduction['perform']:\n",
    "        transformer = FactorAnalysis(n_components = dim_reduction['n_comps'], random_state=random_seed)\n",
    "        X = transformer.fit_transform(df[training_vars])\n",
    "    else:\n",
    "        X = df[training_vars]\n",
    "    \n",
    "    # splitting into test and training\n",
    "    if training:\n",
    "        X_train, X_test, y_train, y_test = train_test_split(X, df[target_var], test_size=0.2, random_state = random_seed)\n",
    "    else:\n",
    "        X_train = df[training_vars]\n",
    "        y_train = df[target_var]\n",
    "        \n",
    "    model = LogisticRegression(solver='lbfgs', multi_class='multinomial')\n",
    "    model.fit(X_train, y_train)\n",
    "    \n",
    "    # saves model for later use\n",
    "    if pickle_configure['perform']:\n",
    "        pickle.dump(model, open(pickle_configure['filename'], 'wb'))\n",
    "    \n",
    "    # if not optimizing model, just return model\n",
    "    if not training:\n",
    "        return model\n",
    "    \n",
    "    predictions = model.predict_proba(X_test)\n",
    "    \n",
    "    # because there are so many target var classes, \n",
    "    # use loss to find relative performance\n",
    "    loss = log_loss(y_test, predictions)\n",
    "    print(loss)\n",
    "    \n",
    "    return model"
   ]
  },
  {
   "cell_type": "markdown",
   "metadata": {},
   "source": [
    "I chose logistic regression as the training algorithm for its speed and because I'm not particularly concerned with getting the best result, since the results of the model are only going to be used to find rough probabilities for an agent-based simulation."
   ]
  },
  {
   "cell_type": "markdown",
   "metadata": {},
   "source": [
    "## Training the Location Model"
   ]
  },
  {
   "cell_type": "markdown",
   "metadata": {},
   "source": [
    "### First Model (Starting Station and Passholder Type)"
   ]
  },
  {
   "cell_type": "code",
   "execution_count": 12,
   "metadata": {},
   "outputs": [
    {
     "data": {
      "text/plain": [
       "Index(['Trip ID', 'Duration', 'Start Time', 'End Time', 'Starting Station ID',\n",
       "       'Starting Station Latitude', 'Starting Station Longitude',\n",
       "       'Ending Station ID', 'Ending Station Latitude',\n",
       "       'Ending Station Longitude', 'Bike ID', 'Plan Duration',\n",
       "       'Trip Route Category', 'Passholder Type', 'Starting Lat-Long',\n",
       "       'Ending Lat-Long'],\n",
       "      dtype='object')"
      ]
     },
     "execution_count": 12,
     "metadata": {},
     "output_type": "execute_result"
    }
   ],
   "source": [
    "data.columns"
   ]
  },
  {
   "cell_type": "code",
   "execution_count": 13,
   "metadata": {},
   "outputs": [],
   "source": [
    "location_df = prep_df(data, 'Ending Station ID', cat_vars=['Starting Station ID'], cont_vars=[])"
   ]
  },
  {
   "cell_type": "code",
   "execution_count": 14,
   "metadata": {},
   "outputs": [
    {
     "name": "stdout",
     "output_type": "stream",
     "text": [
      "3.5294218153020607\n"
     ]
    }
   ],
   "source": [
    "first_model = train_location_model(location_df, target_var='Ending Station ID')"
   ]
  },
  {
   "cell_type": "markdown",
   "metadata": {},
   "source": [
    "I choose the metric for performance to be log loss because with 63 classes, it doesn't make much sense to gauge based on prediction, especially because the classes are skewed. Also, I don't want a good predictive model, I just want a model that can give me rough probabilities of where the chosen bike will go."
   ]
  },
  {
   "cell_type": "code",
   "execution_count": 15,
   "metadata": {},
   "outputs": [
    {
     "name": "stdout",
     "output_type": "stream",
     "text": [
      "[[0.00550108 0.04186708 0.02657345 0.01300753 0.02610084 0.00018179\n",
      "  0.00092414 0.01390465 0.02735903 0.00346354 0.00876014 0.00420807\n",
      "  0.00449159 0.00404112 0.05593968 0.00684543 0.00299239 0.01138682\n",
      "  0.00330254 0.01062271 0.00346839 0.00713191 0.0190509  0.03945292\n",
      "  0.0257472  0.00228328 0.02378487 0.02065311 0.0075868  0.00503899\n",
      "  0.04085153 0.00022773 0.00260972 0.01756003 0.00108622 0.00381362\n",
      "  0.01464222 0.01656254 0.02198847 0.01252643 0.00455434 0.00011147\n",
      "  0.00475488 0.02458535 0.00537824 0.00190259 0.01112689 0.00553011\n",
      "  0.00533365 0.00635465 0.02834401 0.02729167 0.00484688 0.00183926\n",
      "  0.03436241 0.00380783 0.08431207 0.04182031 0.08035331 0.01911776\n",
      "  0.0121416  0.00217647 0.00082529 0.00087453 0.00414503 0.02527244\n",
      "  0.00129644]]\n"
     ]
    }
   ],
   "source": [
    "dep_vars = [v for v in location_df if v != 'Ending Station ID']\n",
    "# finding probability predictions on random entry to check for validity\n",
    "example = first_model.predict_proba(location_df[17890:17891][dep_vars])\n",
    "print(example)"
   ]
  },
  {
   "cell_type": "code",
   "execution_count": 16,
   "metadata": {},
   "outputs": [
    {
     "data": {
      "text/plain": [
       "0.9999999999999998"
      ]
     },
     "execution_count": 16,
     "metadata": {},
     "output_type": "execute_result"
    }
   ],
   "source": [
    "example[0].sum()"
   ]
  },
  {
   "cell_type": "markdown",
   "metadata": {},
   "source": [
    "So it looks like the probabilities at least add up to one, which is a good sign that it correctly represents to probabilities of going to each station."
   ]
  },
  {
   "cell_type": "code",
   "execution_count": 17,
   "metadata": {},
   "outputs": [
    {
     "data": {
      "text/plain": [
       "<matplotlib.axes._subplots.AxesSubplot at 0x179f85ddf28>"
      ]
     },
     "execution_count": 17,
     "metadata": {},
     "output_type": "execute_result"
    },
    {
     "data": {
      "image/png": "[encoded data removed]",
      "text/plain": [
       "<Figure size 432x288 with 1 Axes>"
      ]
     },
     "metadata": {},
     "output_type": "display_data"
    }
   ],
   "source": [
    "# showing distribution for station probabilities for the example\n",
    "station_probs = pd.DataFrame()\n",
    "station_probs['station'] = pd.Series(['s' + str(i + 1) for i in range(len(example[0].tolist()))])\n",
    "station_probs['probs'] = pd.Series(example[0])\n",
    "sns.barplot(data=station_probs, x='station', y='probs')"
   ]
  },
  {
   "cell_type": "markdown",
   "metadata": {},
   "source": [
    "It actually looks like a fair distribution for travel destination. The probabilities don't necessarily overpower each other."
   ]
  },
  {
   "cell_type": "markdown",
   "metadata": {},
   "source": [
    "### Second Model (Adding Time Variables)"
   ]
  },
  {
   "cell_type": "markdown",
   "metadata": {},
   "source": [
    "The previous model only had variables for starting station and passholder type. In this next model, I will add variables for time (time of day and month). Let's see if this model reduces the log loss."
   ]
  },
  {
   "cell_type": "code",
   "execution_count": 18,
   "metadata": {},
   "outputs": [
    {
     "data": {
      "text/html": [
       "<div>\n",
       "<style scoped>\n",
       "    .dataframe tbody tr th:only-of-type {\n",
       "        vertical-align: middle;\n",
       "    }\n",
       "\n",
       "    .dataframe tbody tr th {\n",
       "        vertical-align: top;\n",
       "    }\n",
       "\n",
       "    .dataframe thead th {\n",
       "        text-align: right;\n",
       "    }\n",
       "</style>\n",
       "<table border=\"1\" class=\"dataframe\">\n",
       "  <thead>\n",
       "    <tr style=\"text-align: right;\">\n",
       "      <th></th>\n",
       "      <th>Trip ID</th>\n",
       "      <th>Duration</th>\n",
       "      <th>Start Time</th>\n",
       "      <th>End Time</th>\n",
       "      <th>Starting Station ID</th>\n",
       "      <th>Starting Station Latitude</th>\n",
       "      <th>Starting Station Longitude</th>\n",
       "      <th>Ending Station ID</th>\n",
       "      <th>Ending Station Latitude</th>\n",
       "      <th>Ending Station Longitude</th>\n",
       "      <th>Bike ID</th>\n",
       "      <th>Plan Duration</th>\n",
       "      <th>Trip Route Category</th>\n",
       "      <th>Passholder Type</th>\n",
       "      <th>Starting Lat-Long</th>\n",
       "      <th>Ending Lat-Long</th>\n",
       "    </tr>\n",
       "  </thead>\n",
       "  <tbody>\n",
       "    <tr>\n",
       "      <th>0</th>\n",
       "      <td>1912818</td>\n",
       "      <td>180</td>\n",
       "      <td>2016-07-07T04:17:00</td>\n",
       "      <td>2016-07-07T04:20:00</td>\n",
       "      <td>3014.0</td>\n",
       "      <td>34.05661</td>\n",
       "      <td>-118.23721</td>\n",
       "      <td>3014.0</td>\n",
       "      <td>34.05661</td>\n",
       "      <td>-118.23721</td>\n",
       "      <td>6281.0</td>\n",
       "      <td>30.0</td>\n",
       "      <td>Round Trip</td>\n",
       "      <td>Monthly Pass</td>\n",
       "      <td>{'longitude': '-118.23721', 'latitude': '34.05...</td>\n",
       "      <td>{'longitude': '-118.23721', 'latitude': '34.05...</td>\n",
       "    </tr>\n",
       "  </tbody>\n",
       "</table>\n",
       "</div>"
      ],
      "text/plain": [
       "   Trip ID  Duration           Start Time             End Time  \\\n",
       "0  1912818       180  2016-07-07T04:17:00  2016-07-07T04:20:00   \n",
       "\n",
       "   Starting Station ID  Starting Station Latitude  Starting Station Longitude  \\\n",
       "0               3014.0                   34.05661                  -118.23721   \n",
       "\n",
       "   Ending Station ID  Ending Station Latitude  Ending Station Longitude  \\\n",
       "0             3014.0                 34.05661                -118.23721   \n",
       "\n",
       "   Bike ID  Plan Duration Trip Route Category Passholder Type  \\\n",
       "0   6281.0           30.0          Round Trip    Monthly Pass   \n",
       "\n",
       "                                   Starting Lat-Long  \\\n",
       "0  {'longitude': '-118.23721', 'latitude': '34.05...   \n",
       "\n",
       "                                     Ending Lat-Long  \n",
       "0  {'longitude': '-118.23721', 'latitude': '34.05...  "
      ]
     },
     "execution_count": 18,
     "metadata": {},
     "output_type": "execute_result"
    }
   ],
   "source": [
    "data.head(1)"
   ]
  },
  {
   "cell_type": "code",
   "execution_count": 19,
   "metadata": {},
   "outputs": [
    {
     "data": {
      "text/plain": [
       "'2016-07-07T04:17:00'"
      ]
     },
     "execution_count": 19,
     "metadata": {},
     "output_type": "execute_result"
    }
   ],
   "source": [
    "data['Start Time'][0]"
   ]
  },
  {
   "cell_type": "code",
   "execution_count": 20,
   "metadata": {},
   "outputs": [],
   "source": [
    "# extract month from characters 5:7\n",
    "# extract hour from -8:-6\n",
    "# round based on -5:-3\n",
    "def add_time_var(df):\n",
    "    df = df.copy()\n",
    "    hour_data = []\n",
    "    month_data = []\n",
    "    \n",
    "    # calculates time of entry to the nearest hour\n",
    "    for i, row in df.iterrows():\n",
    "        hour = int(row['Start Time'][-8:-6])\n",
    "        minutes = int(row['Start Time'][-5:-3])\n",
    "        if minutes > 30:\n",
    "            hour = hour + 1\n",
    "        if hour == 24: \n",
    "            hour = 0\n",
    "        hour_data.append(hour)\n",
    "        \n",
    "        month = row['Start Time'][5:7]\n",
    "        # converts the month variable into int\n",
    "        if month[-2] == '0': month = month[-1]\n",
    "        month_data.append(int(month))\n",
    "        \n",
    "    df['Month'] = pd.Series(month_data)\n",
    "    df['Time_of_Day'] = pd.Series(hour_data)\n",
    "    return df"
   ]
  },
  {
   "cell_type": "code",
   "execution_count": 21,
   "metadata": {},
   "outputs": [],
   "source": [
    "location_time_df = add_time_var(data)"
   ]
  },
  {
   "cell_type": "code",
   "execution_count": 22,
   "metadata": {},
   "outputs": [
    {
     "data": {
      "text/html": [
       "<div>\n",
       "<style scoped>\n",
       "    .dataframe tbody tr th:only-of-type {\n",
       "        vertical-align: middle;\n",
       "    }\n",
       "\n",
       "    .dataframe tbody tr th {\n",
       "        vertical-align: top;\n",
       "    }\n",
       "\n",
       "    .dataframe thead th {\n",
       "        text-align: right;\n",
       "    }\n",
       "</style>\n",
       "<table border=\"1\" class=\"dataframe\">\n",
       "  <thead>\n",
       "    <tr style=\"text-align: right;\">\n",
       "      <th></th>\n",
       "      <th>Trip ID</th>\n",
       "      <th>Duration</th>\n",
       "      <th>Start Time</th>\n",
       "      <th>End Time</th>\n",
       "      <th>Starting Station ID</th>\n",
       "      <th>Starting Station Latitude</th>\n",
       "      <th>Starting Station Longitude</th>\n",
       "      <th>Ending Station ID</th>\n",
       "      <th>Ending Station Latitude</th>\n",
       "      <th>Ending Station Longitude</th>\n",
       "      <th>Bike ID</th>\n",
       "      <th>Plan Duration</th>\n",
       "      <th>Trip Route Category</th>\n",
       "      <th>Passholder Type</th>\n",
       "      <th>Starting Lat-Long</th>\n",
       "      <th>Ending Lat-Long</th>\n",
       "      <th>Month</th>\n",
       "      <th>Time_of_Day</th>\n",
       "    </tr>\n",
       "  </thead>\n",
       "  <tbody>\n",
       "    <tr>\n",
       "      <th>0</th>\n",
       "      <td>1912818</td>\n",
       "      <td>180</td>\n",
       "      <td>2016-07-07T04:17:00</td>\n",
       "      <td>2016-07-07T04:20:00</td>\n",
       "      <td>3014.0</td>\n",
       "      <td>34.056610</td>\n",
       "      <td>-118.23721</td>\n",
       "      <td>3014.0</td>\n",
       "      <td>34.056610</td>\n",
       "      <td>-118.23721</td>\n",
       "      <td>6281.0</td>\n",
       "      <td>30.0</td>\n",
       "      <td>Round Trip</td>\n",
       "      <td>Monthly Pass</td>\n",
       "      <td>{'longitude': '-118.23721', 'latitude': '34.05...</td>\n",
       "      <td>{'longitude': '-118.23721', 'latitude': '34.05...</td>\n",
       "      <td>7</td>\n",
       "      <td>4</td>\n",
       "    </tr>\n",
       "    <tr>\n",
       "      <th>1</th>\n",
       "      <td>1919661</td>\n",
       "      <td>1980</td>\n",
       "      <td>2016-07-07T06:00:00</td>\n",
       "      <td>2016-07-07T06:33:00</td>\n",
       "      <td>3014.0</td>\n",
       "      <td>34.056610</td>\n",
       "      <td>-118.23721</td>\n",
       "      <td>3014.0</td>\n",
       "      <td>34.056610</td>\n",
       "      <td>-118.23721</td>\n",
       "      <td>6281.0</td>\n",
       "      <td>30.0</td>\n",
       "      <td>Round Trip</td>\n",
       "      <td>Monthly Pass</td>\n",
       "      <td>{'longitude': '-118.23721', 'latitude': '34.05...</td>\n",
       "      <td>{'longitude': '-118.23721', 'latitude': '34.05...</td>\n",
       "      <td>7</td>\n",
       "      <td>6</td>\n",
       "    </tr>\n",
       "    <tr>\n",
       "      <th>2</th>\n",
       "      <td>1933383</td>\n",
       "      <td>300</td>\n",
       "      <td>2016-07-07T10:32:00</td>\n",
       "      <td>2016-07-07T10:37:00</td>\n",
       "      <td>3016.0</td>\n",
       "      <td>34.052898</td>\n",
       "      <td>-118.24156</td>\n",
       "      <td>3016.0</td>\n",
       "      <td>34.052898</td>\n",
       "      <td>-118.24156</td>\n",
       "      <td>5861.0</td>\n",
       "      <td>365.0</td>\n",
       "      <td>Round Trip</td>\n",
       "      <td>Flex Pass</td>\n",
       "      <td>{'longitude': '-118.24156', 'latitude': '34.05...</td>\n",
       "      <td>{'longitude': '-118.24156', 'latitude': '34.05...</td>\n",
       "      <td>7</td>\n",
       "      <td>11</td>\n",
       "    </tr>\n",
       "  </tbody>\n",
       "</table>\n",
       "</div>"
      ],
      "text/plain": [
       "   Trip ID  Duration           Start Time             End Time  \\\n",
       "0  1912818       180  2016-07-07T04:17:00  2016-07-07T04:20:00   \n",
       "1  1919661      1980  2016-07-07T06:00:00  2016-07-07T06:33:00   \n",
       "2  1933383       300  2016-07-07T10:32:00  2016-07-07T10:37:00   \n",
       "\n",
       "   Starting Station ID  Starting Station Latitude  Starting Station Longitude  \\\n",
       "0               3014.0                  34.056610                  -118.23721   \n",
       "1               3014.0                  34.056610                  -118.23721   \n",
       "2               3016.0                  34.052898                  -118.24156   \n",
       "\n",
       "   Ending Station ID  Ending Station Latitude  Ending Station Longitude  \\\n",
       "0             3014.0                34.056610                -118.23721   \n",
       "1             3014.0                34.056610                -118.23721   \n",
       "2             3016.0                34.052898                -118.24156   \n",
       "\n",
       "   Bike ID  Plan Duration Trip Route Category Passholder Type  \\\n",
       "0   6281.0           30.0          Round Trip    Monthly Pass   \n",
       "1   6281.0           30.0          Round Trip    Monthly Pass   \n",
       "2   5861.0          365.0          Round Trip       Flex Pass   \n",
       "\n",
       "                                   Starting Lat-Long  \\\n",
       "0  {'longitude': '-118.23721', 'latitude': '34.05...   \n",
       "1  {'longitude': '-118.23721', 'latitude': '34.05...   \n",
       "2  {'longitude': '-118.24156', 'latitude': '34.05...   \n",
       "\n",
       "                                     Ending Lat-Long  Month  Time_of_Day  \n",
       "0  {'longitude': '-118.23721', 'latitude': '34.05...      7            4  \n",
       "1  {'longitude': '-118.23721', 'latitude': '34.05...      7            6  \n",
       "2  {'longitude': '-118.24156', 'latitude': '34.05...      7           11  "
      ]
     },
     "execution_count": 22,
     "metadata": {},
     "output_type": "execute_result"
    }
   ],
   "source": [
    "location_time_df.head(3)"
   ]
  },
  {
   "cell_type": "code",
   "execution_count": 23,
   "metadata": {},
   "outputs": [
    {
     "data": {
      "text/plain": [
       "<matplotlib.axes._subplots.AxesSubplot at 0x179f855d748>"
      ]
     },
     "execution_count": 23,
     "metadata": {},
     "output_type": "execute_result"
    },
    {
     "data": {
      "image/png": "[encoded data removed]",
      "text/plain": [
       "<Figure size 432x288 with 1 Axes>"
      ]
     },
     "metadata": {},
     "output_type": "display_data"
    }
   ],
   "source": [
    "sns.countplot(data=location_time_df, x='Month')"
   ]
  },
  {
   "cell_type": "markdown",
   "metadata": {},
   "source": [
    "The above trend makes sense. I would expect biking to increase over summer, either because people are more free or because of the warmer weather. But the trend could also be explained by the fact that the bike share program might've been newer during the summer. It seems the data was not collected over an entire year."
   ]
  },
  {
   "cell_type": "code",
   "execution_count": 24,
   "metadata": {},
   "outputs": [
    {
     "data": {
      "text/plain": [
       "<matplotlib.axes._subplots.AxesSubplot at 0x1798be314e0>"
      ]
     },
     "execution_count": 24,
     "metadata": {},
     "output_type": "execute_result"
    },
    {
     "data": {
      "image/png": "[encoded data removed]",
      "text/plain": [
       "<Figure size 432x288 with 1 Axes>"
      ]
     },
     "metadata": {},
     "output_type": "display_data"
    }
   ],
   "source": [
    "sns.countplot(data=location_time_df, x='Time_of_Day')"
   ]
  },
  {
   "cell_type": "code",
   "execution_count": 25,
   "metadata": {},
   "outputs": [],
   "source": [
    "model_df_2 = prep_df(location_time_df, 'Ending Station ID', cat_vars=['Starting Station ID', 'Month', 'Time_of_Day'])"
   ]
  },
  {
   "cell_type": "code",
   "execution_count": 26,
   "metadata": {},
   "outputs": [
    {
     "name": "stdout",
     "output_type": "stream",
     "text": [
      "3.4301855050223984\n"
     ]
    }
   ],
   "source": [
    "second_model = train_location_model(model_df_2, 'Ending Station ID')"
   ]
  },
  {
   "cell_type": "markdown",
   "metadata": {},
   "source": [
    "The second model does better than the first, but it's difficult to interpret exactly how much better."
   ]
  },
  {
   "cell_type": "markdown",
   "metadata": {},
   "source": [
    "### Third Model (Dimensionality Reduction)"
   ]
  },
  {
   "cell_type": "code",
   "execution_count": 27,
   "metadata": {},
   "outputs": [],
   "source": [
    "# dim_configure_10 = {\n",
    "#     'perform': True,\n",
    "#     'n_comps': 10\n",
    "# }"
   ]
  },
  {
   "cell_type": "code",
   "execution_count": 28,
   "metadata": {},
   "outputs": [],
   "source": [
    "# third_model_10 = train_location_model(model_df_2, 'Ending Station ID', dim_reduction=dim_configure_10)"
   ]
  },
  {
   "cell_type": "code",
   "execution_count": 29,
   "metadata": {},
   "outputs": [],
   "source": [
    "# dim_configure_20 = {\n",
    "#     'perform': True,\n",
    "#     'n_comps': 20\n",
    "# }"
   ]
  },
  {
   "cell_type": "code",
   "execution_count": 30,
   "metadata": {},
   "outputs": [],
   "source": [
    "# third_model_10 = train_location_model(model_df_2, 'Ending Station ID', dim_reduction=dim_configure_20)"
   ]
  },
  {
   "cell_type": "code",
   "execution_count": 31,
   "metadata": {},
   "outputs": [],
   "source": [
    "# dim_configure_50 = {\n",
    "#     'perform': True,\n",
    "#     'n_comps': 50\n",
    "# }"
   ]
  },
  {
   "cell_type": "code",
   "execution_count": 32,
   "metadata": {},
   "outputs": [],
   "source": [
    "# third_model_10 = train_location_model(model_df_2, 'Ending Station ID', dim_reduction=dim_configure_50)"
   ]
  },
  {
   "cell_type": "markdown",
   "metadata": {},
   "source": [
    "I actually don't think at least this form of dimensionality reduction does anything. It also makes training a lot longer because I think it takes away sparsity from the matrix for training."
   ]
  },
  {
   "cell_type": "markdown",
   "metadata": {},
   "source": [
    "### Final Model"
   ]
  },
  {
   "cell_type": "markdown",
   "metadata": {},
   "source": [
    "For the model, I will just use the second one with the time variables, passholder type, and starting station. I haven't even done any hyperparameter tuning or compared training to testing loss, but I think this is good enough to produce the probabilities for the simulation."
   ]
  },
  {
   "cell_type": "code",
   "execution_count": 33,
   "metadata": {},
   "outputs": [],
   "source": [
    "pickle_configure = {\n",
    "    'perform': True,\n",
    "    'filename': 'location.p'\n",
    "}"
   ]
  },
  {
   "cell_type": "code",
   "execution_count": 34,
   "metadata": {},
   "outputs": [],
   "source": [
    "final_model = train_location_model(model_df_2, 'Ending Station ID', training=False, pickle_configure=pickle_configure)"
   ]
  },
  {
   "cell_type": "code",
   "execution_count": 35,
   "metadata": {},
   "outputs": [
    {
     "data": {
      "text/plain": [
       "array([3000., 3005., 3006., 3007., 3008., 3009., 3010., 3011., 3014.,\n",
       "       3016., 3018., 3019., 3020., 3021., 3022., 3023., 3024., 3025.,\n",
       "       3026., 3027., 3028., 3029., 3030., 3031., 3032., 3033., 3034.,\n",
       "       3035., 3036., 3037., 3038., 3039., 3040., 3042., 3045., 3046.,\n",
       "       3047., 3048., 3049., 3051., 3052., 3053., 3054., 3055., 3056.,\n",
       "       3057., 3058., 3059., 3060., 3062., 3063., 3064., 3065., 3066.,\n",
       "       3067., 3068., 3069., 3074., 3075., 3076., 3077., 3078., 3079.,\n",
       "       3080., 3081., 3082., 4108.])"
      ]
     },
     "execution_count": 35,
     "metadata": {},
     "output_type": "execute_result"
    }
   ],
   "source": [
    "final_model.classes_"
   ]
  },
  {
   "cell_type": "markdown",
   "metadata": {},
   "source": [
    "The output of probability predictions are in numerical station order."
   ]
  },
  {
   "cell_type": "code",
   "execution_count": 36,
   "metadata": {},
   "outputs": [
    {
     "data": {
      "text/plain": [
       "Index(['Ending Station ID', 'Starting Station ID_3005.0',\n",
       "       'Starting Station ID_3006.0', 'Starting Station ID_3007.0',\n",
       "       'Starting Station ID_3008.0', 'Starting Station ID_3009.0',\n",
       "       'Starting Station ID_3010.0', 'Starting Station ID_3011.0',\n",
       "       'Starting Station ID_3014.0', 'Starting Station ID_3016.0',\n",
       "       'Starting Station ID_3018.0', 'Starting Station ID_3019.0',\n",
       "       'Starting Station ID_3020.0', 'Starting Station ID_3021.0',\n",
       "       'Starting Station ID_3022.0', 'Starting Station ID_3023.0',\n",
       "       'Starting Station ID_3024.0', 'Starting Station ID_3025.0',\n",
       "       'Starting Station ID_3026.0', 'Starting Station ID_3027.0',\n",
       "       'Starting Station ID_3028.0', 'Starting Station ID_3029.0',\n",
       "       'Starting Station ID_3030.0', 'Starting Station ID_3031.0',\n",
       "       'Starting Station ID_3032.0', 'Starting Station ID_3033.0',\n",
       "       'Starting Station ID_3034.0', 'Starting Station ID_3035.0',\n",
       "       'Starting Station ID_3036.0', 'Starting Station ID_3037.0',\n",
       "       'Starting Station ID_3038.0', 'Starting Station ID_3039.0',\n",
       "       'Starting Station ID_3040.0', 'Starting Station ID_3042.0',\n",
       "       'Starting Station ID_3045.0', 'Starting Station ID_3046.0',\n",
       "       'Starting Station ID_3047.0', 'Starting Station ID_3048.0',\n",
       "       'Starting Station ID_3049.0', 'Starting Station ID_3051.0',\n",
       "       'Starting Station ID_3052.0', 'Starting Station ID_3053.0',\n",
       "       'Starting Station ID_3054.0', 'Starting Station ID_3055.0',\n",
       "       'Starting Station ID_3056.0', 'Starting Station ID_3057.0',\n",
       "       'Starting Station ID_3058.0', 'Starting Station ID_3059.0',\n",
       "       'Starting Station ID_3060.0', 'Starting Station ID_3062.0',\n",
       "       'Starting Station ID_3063.0', 'Starting Station ID_3064.0',\n",
       "       'Starting Station ID_3065.0', 'Starting Station ID_3066.0',\n",
       "       'Starting Station ID_3067.0', 'Starting Station ID_3068.0',\n",
       "       'Starting Station ID_3069.0', 'Starting Station ID_3074.0',\n",
       "       'Starting Station ID_3075.0', 'Starting Station ID_3076.0',\n",
       "       'Starting Station ID_3077.0', 'Starting Station ID_3078.0',\n",
       "       'Starting Station ID_3079.0', 'Starting Station ID_3080.0',\n",
       "       'Starting Station ID_3081.0', 'Starting Station ID_3082.0',\n",
       "       'Starting Station ID_4108.0', 'Month_2', 'Month_3', 'Month_7',\n",
       "       'Month_8', 'Month_9', 'Month_10', 'Month_11', 'Month_12',\n",
       "       'Time_of_Day_1', 'Time_of_Day_2', 'Time_of_Day_3', 'Time_of_Day_4',\n",
       "       'Time_of_Day_5', 'Time_of_Day_6', 'Time_of_Day_7', 'Time_of_Day_8',\n",
       "       'Time_of_Day_9', 'Time_of_Day_10', 'Time_of_Day_11', 'Time_of_Day_12',\n",
       "       'Time_of_Day_13', 'Time_of_Day_14', 'Time_of_Day_15', 'Time_of_Day_16',\n",
       "       'Time_of_Day_17', 'Time_of_Day_18', 'Time_of_Day_19', 'Time_of_Day_20',\n",
       "       'Time_of_Day_21', 'Time_of_Day_22', 'Time_of_Day_23'],\n",
       "      dtype='object')"
      ]
     },
     "execution_count": 36,
     "metadata": {},
     "output_type": "execute_result"
    }
   ],
   "source": [
    "model_df_2.columns"
   ]
  },
  {
   "cell_type": "code",
   "execution_count": null,
   "metadata": {},
   "outputs": [],
   "source": []
  }
 ],
 "metadata": {
  "kernelspec": {
   "display_name": "Python 3",
   "language": "python",
   "name": "python3"
  },
  "language_info": {
   "codemirror_mode": {
    "name": "ipython",
    "version": 3
   },
   "file_extension": ".py",
   "mimetype": "text/x-python",
   "name": "python",
   "nbconvert_exporter": "python",
   "pygments_lexer": "ipython3",
   "version": "3.6.4"
  }
 },
 "nbformat": 4,
 "nbformat_minor": 2
}
